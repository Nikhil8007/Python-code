{
 "cells": [
  {
   "cell_type": "markdown",
   "id": "35f10e92",
   "metadata": {},
   "source": [
    "# 1- program to print Hello Python ten times"
   ]
  },
  {
   "cell_type": "code",
   "execution_count": 1,
   "id": "f8efcdda",
   "metadata": {},
   "outputs": [
    {
     "name": "stdout",
     "output_type": "stream",
     "text": [
      "Hello Python\n",
      "Hello Python\n",
      "Hello Python\n",
      "Hello Python\n",
      "Hello Python\n",
      "Hello Python\n",
      "Hello Python\n",
      "Hello Python\n",
      "Hello Python\n",
      "Hello Python\n"
     ]
    }
   ],
   "source": [
    "for i in range(10):\n",
    "    print('Hello Python')"
   ]
  },
  {
   "cell_type": "markdown",
   "id": "66b3efc9",
   "metadata": {},
   "source": [
    "# 2-Program to print number from 1 to 10"
   ]
  },
  {
   "cell_type": "code",
   "execution_count": 3,
   "id": "02e77ae4",
   "metadata": {},
   "outputs": [
    {
     "name": "stdout",
     "output_type": "stream",
     "text": [
      "1\n",
      "2\n",
      "3\n",
      "4\n",
      "5\n",
      "6\n",
      "7\n",
      "8\n",
      "9\n",
      "10\n"
     ]
    }
   ],
   "source": [
    "for i in range (1,11):\n",
    "    print(i)"
   ]
  },
  {
   "cell_type": "markdown",
   "id": "23cd7ff7",
   "metadata": {},
   "source": [
    "# 3-Program to print sum of first ten numbers"
   ]
  },
  {
   "cell_type": "code",
   "execution_count": 6,
   "id": "30e56b81",
   "metadata": {},
   "outputs": [
    {
     "name": "stdout",
     "output_type": "stream",
     "text": [
      "55\n"
     ]
    }
   ],
   "source": [
    "i=1\n",
    "sum=0\n",
    "while i<11:\n",
    "    sum=sum+i\n",
    "    i=i+1\n",
    "print(sum)"
   ]
  },
  {
   "cell_type": "markdown",
   "id": "f9c64d09",
   "metadata": {},
   "source": [
    "# 4-Program to print n number entered by user "
   ]
  },
  {
   "cell_type": "code",
   "execution_count": 11,
   "id": "f2e8bf2a",
   "metadata": {},
   "outputs": [
    {
     "name": "stdout",
     "output_type": "stream",
     "text": [
      "enter value9\n",
      "1\n",
      "2\n",
      "3\n",
      "4\n",
      "5\n",
      "6\n",
      "7\n",
      "8\n",
      "9\n"
     ]
    }
   ],
   "source": [
    "i=1\n",
    "n=int(input('enter value'))\n",
    "while i<=n:\n",
    "    print(i)\n",
    "    i=i+1"
   ]
  },
  {
   "cell_type": "markdown",
   "id": "818f033e",
   "metadata": {},
   "source": [
    "# 5-Prgram to print sum of n numbers"
   ]
  },
  {
   "cell_type": "code",
   "execution_count": 12,
   "id": "6973f01a",
   "metadata": {},
   "outputs": [
    {
     "name": "stdout",
     "output_type": "stream",
     "text": [
      "Enter the Number: 9\n",
      "45\n"
     ]
    }
   ],
   "source": [
    "#for loop\n",
    "number = int(input(\"Enter the Number: \"))\n",
    "sum = 0\n",
    "for i in range(1, number + 1):\n",
    "    sum = sum + i\n",
    "print(sum)\n",
    " "
   ]
  },
  {
   "cell_type": "code",
   "execution_count": 1,
   "id": "6036528f",
   "metadata": {},
   "outputs": [
    {
     "name": "stdout",
     "output_type": "stream",
     "text": [
      "Enter the Number: 9\n",
      "1\n",
      "3\n",
      "6\n",
      "10\n",
      "15\n",
      "21\n",
      "28\n",
      "36\n",
      "45\n"
     ]
    }
   ],
   "source": [
    "number = int(input(\"Enter the Number: \"))\n",
    "sum = 0\n",
    "for i in range(1, number + 1):\n",
    "    sum = sum + i\n",
    "    print(sum)"
   ]
  },
  {
   "cell_type": "code",
   "execution_count": 13,
   "id": "6146a897",
   "metadata": {},
   "outputs": [
    {
     "name": "stdout",
     "output_type": "stream",
     "text": [
      "enter number9\n",
      "45\n"
     ]
    }
   ],
   "source": [
    "#while loop\n",
    "\n",
    "n=int(input('enter number'))\n",
    "i=1\n",
    "sum=0\n",
    "while i<=n:\n",
    "    sum=sum+i\n",
    "    i=i+1\n",
    "print(sum)\n"
   ]
  },
  {
   "cell_type": "markdown",
   "id": "409a52ff",
   "metadata": {},
   "source": [
    "# 6-Program to print table of n number"
   ]
  },
  {
   "cell_type": "code",
   "execution_count": 2,
   "id": "2a3381be",
   "metadata": {},
   "outputs": [
    {
     "name": "stdout",
     "output_type": "stream",
     "text": [
      "enter number11\n",
      "11\n",
      "22\n",
      "33\n",
      "44\n",
      "55\n",
      "66\n",
      "77\n",
      "88\n",
      "99\n",
      "110\n"
     ]
    }
   ],
   "source": [
    "x=int(input('enter number'))\n",
    "y=1\n",
    "while (y<=10):\n",
    "    print(x*y)\n",
    "    y=y+1"
   ]
  },
  {
   "cell_type": "code",
   "execution_count": 3,
   "id": "9a5514b9",
   "metadata": {},
   "outputs": [
    {
     "name": "stdout",
     "output_type": "stream",
     "text": [
      "enter number11\n",
      "11\n",
      "22\n",
      "33\n",
      "44\n",
      "55\n",
      "66\n",
      "77\n",
      "88\n",
      "99\n",
      "110\n"
     ]
    }
   ],
   "source": [
    "x=int(input('enter number'))\n",
    "for y in range(1,11):\n",
    "    print(x*y)"
   ]
  },
  {
   "cell_type": "markdown",
   "id": "dcf9c376",
   "metadata": {},
   "source": [
    "# 7-Program to print even number between 1 to 100"
   ]
  },
  {
   "cell_type": "code",
   "execution_count": 15,
   "id": "37fd4917",
   "metadata": {},
   "outputs": [
    {
     "name": "stdout",
     "output_type": "stream",
     "text": [
      "2\n",
      "4\n",
      "6\n",
      "8\n",
      "10\n",
      "12\n",
      "14\n",
      "16\n",
      "18\n",
      "20\n",
      "22\n",
      "24\n",
      "26\n",
      "28\n",
      "30\n",
      "32\n",
      "34\n",
      "36\n",
      "38\n",
      "40\n",
      "42\n",
      "44\n",
      "46\n",
      "48\n",
      "50\n",
      "52\n",
      "54\n",
      "56\n",
      "58\n",
      "60\n",
      "62\n",
      "64\n",
      "66\n",
      "68\n",
      "70\n",
      "72\n",
      "74\n",
      "76\n",
      "78\n",
      "80\n",
      "82\n",
      "84\n",
      "86\n",
      "88\n",
      "90\n",
      "92\n",
      "94\n",
      "96\n",
      "98\n",
      "100\n"
     ]
    }
   ],
   "source": [
    "for i in range(1,101):\n",
    "    if i%2==0:\n",
    "        print(i)\n"
   ]
  },
  {
   "cell_type": "markdown",
   "id": "4638e306",
   "metadata": {},
   "source": [
    "# 8-Program to print odd number between 1 to 100"
   ]
  },
  {
   "cell_type": "code",
   "execution_count": 16,
   "id": "a18bb886",
   "metadata": {},
   "outputs": [
    {
     "name": "stdout",
     "output_type": "stream",
     "text": [
      "1\n",
      "3\n",
      "5\n",
      "7\n",
      "9\n",
      "11\n",
      "13\n",
      "15\n",
      "17\n",
      "19\n",
      "21\n",
      "23\n",
      "25\n",
      "27\n",
      "29\n",
      "31\n",
      "33\n",
      "35\n",
      "37\n",
      "39\n",
      "41\n",
      "43\n",
      "45\n",
      "47\n",
      "49\n",
      "51\n",
      "53\n",
      "55\n",
      "57\n",
      "59\n",
      "61\n",
      "63\n",
      "65\n",
      "67\n",
      "69\n",
      "71\n",
      "73\n",
      "75\n",
      "77\n",
      "79\n",
      "81\n",
      "83\n",
      "85\n",
      "87\n",
      "89\n",
      "91\n",
      "93\n",
      "95\n",
      "97\n",
      "99\n"
     ]
    }
   ],
   "source": [
    "for i in range(1,101):\n",
    "    if i%2!=0:\n",
    "        print(i)\n"
   ]
  },
  {
   "cell_type": "markdown",
   "id": "f07d19af",
   "metadata": {},
   "source": [
    "# 9-Program to calculate factorial of a number"
   ]
  },
  {
   "cell_type": "code",
   "execution_count": 5,
   "id": "d533b142",
   "metadata": {},
   "outputs": [
    {
     "name": "stdout",
     "output_type": "stream",
     "text": [
      "enter number5\n",
      "120\n"
     ]
    }
   ],
   "source": [
    "n=int(input('enter number'))\n",
    "f=1\n",
    "while n>0:\n",
    "    f=f*n\n",
    "    n=n-1\n",
    "print(f)"
   ]
  },
  {
   "cell_type": "code",
   "execution_count": 7,
   "id": "7629631d",
   "metadata": {},
   "outputs": [
    {
     "name": "stdout",
     "output_type": "stream",
     "text": [
      "enter number5\n",
      "5\n",
      "20\n",
      "60\n",
      "120\n",
      "120\n"
     ]
    }
   ],
   "source": [
    "n=int(input('enter number'))\n",
    "f=1\n",
    "while n>0:\n",
    "    f=f*n\n",
    "    n=n-1\n",
    "    print(f)"
   ]
  },
  {
   "cell_type": "code",
   "execution_count": 8,
   "id": "40cc1fd1",
   "metadata": {},
   "outputs": [
    {
     "name": "stdout",
     "output_type": "stream",
     "text": [
      "Enter number:5\n",
      "120\n"
     ]
    }
   ],
   "source": [
    "n=int(input(\"Enter number:\"))\n",
    "fact=1\n",
    "for i in range(1,n+1,1):\n",
    "    fact=fact*i\n",
    "print(fact)"
   ]
  },
  {
   "cell_type": "code",
   "execution_count": 9,
   "id": "99ed3953",
   "metadata": {},
   "outputs": [
    {
     "name": "stdout",
     "output_type": "stream",
     "text": [
      "Enter number:5\n",
      "1\n",
      "2\n",
      "6\n",
      "24\n",
      "120\n"
     ]
    }
   ],
   "source": [
    "n=int(input(\"Enter number:\"))\n",
    "fact=1\n",
    "for i in range(1,n+1,1):\n",
    "    fact=fact*i\n",
    "    print(fact)"
   ]
  },
  {
   "cell_type": "markdown",
   "id": "2622c262",
   "metadata": {},
   "source": [
    "# 10-Program to check number is palindrome or not"
   ]
  },
  {
   "cell_type": "code",
   "execution_count": 52,
   "id": "47f8f95d",
   "metadata": {},
   "outputs": [
    {
     "name": "stdout",
     "output_type": "stream",
     "text": [
      "Enter a number:121\n",
      "The number is palindrome\n"
     ]
    }
   ],
   "source": [
    "num=int(input(\"Enter a number:\"))\n",
    "temp=num\n",
    "rev=0\n",
    "while(num>0):\n",
    "    dig=num%10\n",
    "    rev=rev*10+dig\n",
    "    num=num//10\n",
    "if(temp==rev):\n",
    "    print(\"The number is palindrome\")\n",
    "else:\n",
    "    print(\"Not a palindrome\")"
   ]
  },
  {
   "cell_type": "code",
   "execution_count": 53,
   "id": "8069ad30",
   "metadata": {},
   "outputs": [
    {
     "name": "stdout",
     "output_type": "stream",
     "text": [
      "Enter a number:12345\n",
      "Not a palindrome\n"
     ]
    }
   ],
   "source": [
    "num=int(input(\"Enter a number:\"))\n",
    "temp=num\n",
    "rev=0\n",
    "while(num>0):\n",
    "    dig=num%10\n",
    "    rev=rev*10+dig\n",
    "    num=num//10\n",
    "if(temp==rev):\n",
    "    print(\"The number is palindrome\")\n",
    "else:\n",
    "    print(\"Not a palindrome\")"
   ]
  },
  {
   "cell_type": "markdown",
   "id": "12533f1b",
   "metadata": {},
   "source": [
    "# 11-Program to find factor"
   ]
  },
  {
   "cell_type": "code",
   "execution_count": 24,
   "id": "72a00cf5",
   "metadata": {},
   "outputs": [
    {
     "name": "stdout",
     "output_type": "stream",
     "text": [
      "Please Enter any Value : 125\n",
      "1\n",
      "5\n",
      "25\n",
      "125\n"
     ]
    }
   ],
   "source": [
    "val = int(input(\"Please Enter any Value : \"))\n",
    "\n",
    "\n",
    "for i in range(1, val + 1):\n",
    "    if(val%i == 0):\n",
    "        print(i)"
   ]
  },
  {
   "cell_type": "code",
   "execution_count": 22,
   "id": "956331ee",
   "metadata": {},
   "outputs": [
    {
     "name": "stdout",
     "output_type": "stream",
     "text": [
      "Please Enter any Value : 125\n",
      "1\n",
      "5\n",
      "25\n",
      "125\n"
     ]
    }
   ],
   "source": [
    "val = int(input(\"Please Enter any Value : \"))\n",
    "\n",
    "\n",
    "\n",
    "for i in range(1, val + 2):\n",
    "    if(val%i == 0):\n",
    "        print(i)"
   ]
  },
  {
   "cell_type": "markdown",
   "id": "823d724c",
   "metadata": {},
   "source": [
    "# 12-Program to print the reverse of a number"
   ]
  },
  {
   "cell_type": "code",
   "execution_count": 57,
   "id": "c31309cf",
   "metadata": {},
   "outputs": [
    {
     "name": "stdout",
     "output_type": "stream",
     "text": [
      "Please Enter any Number: 12345\n",
      "Rever of a number is = 54321\n"
     ]
    }
   ],
   "source": [
    "Number = int(input(\"Please Enter any Number: \"))    \n",
    "Reverse = 0    \n",
    "while(Number > 0):    \n",
    "    Reminder = Number %10    \n",
    "    Reverse = (Reverse *10) + Reminder    \n",
    "    Number = Number //10    \n",
    "     \n",
    "print('Rever of a number is =',Reverse)   "
   ]
  },
  {
   "cell_type": "code",
   "execution_count": null,
   "id": "e826191f",
   "metadata": {},
   "outputs": [],
   "source": []
  },
  {
   "cell_type": "markdown",
   "id": "066e3e56",
   "metadata": {},
   "source": [
    "# 13-Program to print the sum of reverse of a number"
   ]
  },
  {
   "cell_type": "code",
   "execution_count": 1,
   "id": "d1842872",
   "metadata": {},
   "outputs": [
    {
     "name": "stdout",
     "output_type": "stream",
     "text": [
      "enter number246\n",
      "12\n"
     ]
    }
   ],
   "source": [
    "n=int(input('enter number'))\n",
    "rev=0\n",
    "while n>0:\n",
    "    dig=n%10\n",
    "    rev=rev+dig\n",
    "    n=n//10\n",
    "print(rev)"
   ]
  },
  {
   "cell_type": "markdown",
   "id": "5b01ea94",
   "metadata": {},
   "source": [
    "# 14-Program to print wether a given number is prime or not"
   ]
  },
  {
   "cell_type": "code",
   "execution_count": 50,
   "id": "94b37306",
   "metadata": {},
   "outputs": [
    {
     "name": "stdout",
     "output_type": "stream",
     "text": [
      "enter number9\n",
      "9 it is not prime number\n"
     ]
    }
   ],
   "source": [
    "num=int(input('enter number'))\n",
    "\n",
    "for i in range(2,num):\n",
    "    if (num % i)==0:\n",
    "        print(num,'it is not prime number')\n",
    "        break\n",
    "else:\n",
    "    print(num,'it is prime number')"
   ]
  },
  {
   "cell_type": "code",
   "execution_count": 51,
   "id": "493e9082",
   "metadata": {},
   "outputs": [
    {
     "name": "stdout",
     "output_type": "stream",
     "text": [
      "enter number23\n",
      "23 it is prime number\n"
     ]
    }
   ],
   "source": [
    "num=int(input('enter number'))\n",
    "\n",
    "for i in range(2,num):\n",
    "    if (num % i)==0:\n",
    "        print(num,'it is not prime number')\n",
    "        break\n",
    "else:\n",
    "    print(num,'it is prime number')"
   ]
  },
  {
   "cell_type": "code",
   "execution_count": null,
   "id": "b85eb8c3",
   "metadata": {},
   "outputs": [],
   "source": []
  },
  {
   "cell_type": "markdown",
   "id": "7a8ca674",
   "metadata": {},
   "source": [
    "# 15-Program to print prime number between 1 to 100"
   ]
  },
  {
   "cell_type": "code",
   "execution_count": 6,
   "id": "1f6a5659",
   "metadata": {},
   "outputs": [
    {
     "name": "stdout",
     "output_type": "stream",
     "text": [
      "2\n",
      "3\n",
      "5\n",
      "7\n",
      "11\n",
      "13\n",
      "17\n",
      "19\n",
      "23\n",
      "29\n",
      "31\n",
      "37\n",
      "41\n",
      "43\n",
      "47\n",
      "53\n",
      "59\n",
      "61\n",
      "67\n",
      "71\n",
      "73\n",
      "79\n",
      "83\n",
      "89\n",
      "97\n"
     ]
    }
   ],
   "source": [
    "for i in range(1,101):\n",
    "    if i>1:\n",
    "        for j in range(2,i):\n",
    "            if i%j==0:\n",
    "                break\n",
    "        else:\n",
    "            print(i)"
   ]
  },
  {
   "cell_type": "markdown",
   "id": "7d1da43c",
   "metadata": {},
   "source": [
    "# 16-Program to print number in reverse order entered by user"
   ]
  },
  {
   "cell_type": "code",
   "execution_count": 11,
   "id": "4156f4b1",
   "metadata": {},
   "outputs": [
    {
     "name": "stdout",
     "output_type": "stream",
     "text": [
      "the revese of anumber 54321\n"
     ]
    }
   ],
   "source": [
    "num=12345\n",
    "rev=0\n",
    "while num>0:\n",
    "    rem=num%10\n",
    "    rev=rev*10+rem\n",
    "    num=num//10\n",
    "    \n",
    "print('the revese of anumber',rev)"
   ]
  },
  {
   "cell_type": "markdown",
   "id": "4823b91d",
   "metadata": {},
   "source": [
    "# 17-program to print cube of all number from 1 to a given number"
   ]
  },
  {
   "cell_type": "code",
   "execution_count": 7,
   "id": "68c7ca6a",
   "metadata": {},
   "outputs": [
    {
     "name": "stdout",
     "output_type": "stream",
     "text": [
      "enter number5\n",
      "1\n",
      "8\n",
      "27\n",
      "64\n",
      "125\n"
     ]
    }
   ],
   "source": [
    "number = int(input('enter number'))\n",
    "for i in range(1, number + 1):\n",
    "    cube=(i * i * i)\n",
    "    print(cube)"
   ]
  },
  {
   "cell_type": "code",
   "execution_count": 10,
   "id": "cd1f8b00",
   "metadata": {},
   "outputs": [
    {
     "name": "stdout",
     "output_type": "stream",
     "text": [
      "enter number5\n",
      "125\n"
     ]
    }
   ],
   "source": [
    "number = int(input('enter number'))\n",
    "for i in range(1, number + 1):\n",
    "    cube=(i * i * i)\n",
    "print(cube)"
   ]
  },
  {
   "cell_type": "markdown",
   "id": "b7109139",
   "metadata": {},
   "source": [
    "# 18-Program to count total number of digits in a number"
   ]
  },
  {
   "cell_type": "code",
   "execution_count": 11,
   "id": "316dcbd7",
   "metadata": {},
   "outputs": [
    {
     "name": "stdout",
     "output_type": "stream",
     "text": [
      "Enter number:12345\n",
      "The number of digits in the number are: 5\n"
     ]
    }
   ],
   "source": [
    "n=int(input(\"Enter number:\"))\n",
    "count=0\n",
    "while(n>0):\n",
    "    count=count+1\n",
    "    n=n//10\n",
    "print(\"The number of digits in the number are:\",count)"
   ]
  },
  {
   "cell_type": "markdown",
   "id": "4af59f2c",
   "metadata": {},
   "source": [
    "# 19-program to print fibonaci series"
   ]
  },
  {
   "cell_type": "code",
   "execution_count": 4,
   "id": "accaef91",
   "metadata": {},
   "outputs": [
    {
     "name": "stdout",
     "output_type": "stream",
     "text": [
      "enter number159\n",
      "0\n",
      "1\n",
      "1\n",
      "2\n",
      "3\n",
      "5\n",
      "8\n",
      "13\n",
      "21\n",
      "34\n",
      "55\n",
      "89\n",
      "144\n"
     ]
    }
   ],
   "source": [
    "n=int(input('enter number'))\n",
    "x=0\n",
    "y=1\n",
    "z=0\n",
    "while (z<=n):\n",
    "    print(z)\n",
    "    x=y\n",
    "    y=z\n",
    "    z=x+y"
   ]
  },
  {
   "cell_type": "markdown",
   "id": "cb6a9292",
   "metadata": {},
   "source": [
    "# 20-Program to check given number amstrong or not"
   ]
  },
  {
   "cell_type": "code",
   "execution_count": 9,
   "id": "427bfe28",
   "metadata": {},
   "outputs": [
    {
     "name": "stdout",
     "output_type": "stream",
     "text": [
      "enter number153\n",
      "NUmber is Armstrong\n"
     ]
    }
   ],
   "source": [
    "i = int(input('enter number'))\n",
    "org=i\n",
    "sum=0\n",
    "while(i>0):\n",
    "    sum=sum+(i%10)*(i%10)*(i%10)\n",
    "    i=i//10\n",
    "    \n",
    "if org == sum:\n",
    "    print('NUmber is Armstrong')\n",
    "else:\n",
    "    print('Number is not Armstrong')"
   ]
  },
  {
   "cell_type": "code",
   "execution_count": 10,
   "id": "4cf3af94",
   "metadata": {},
   "outputs": [
    {
     "name": "stdout",
     "output_type": "stream",
     "text": [
      "enter number191\n",
      "Number is not Armstrong\n"
     ]
    }
   ],
   "source": [
    "i = int(input('enter number'))\n",
    "org=i\n",
    "sum=0\n",
    "while(i>0):\n",
    "    sum=sum+(i%10)*(i%10)*(i%10)\n",
    "    i=i//10\n",
    "    \n",
    "if org == sum:\n",
    "    print('NUmber is Armstrong')\n",
    "else:\n",
    "    print('Number is not Armstrong')"
   ]
  },
  {
   "cell_type": "markdown",
   "id": "4d939445",
   "metadata": {},
   "source": [
    "# 21-Program to check given number strong or not"
   ]
  },
  {
   "cell_type": "code",
   "execution_count": 7,
   "id": "0d550c59",
   "metadata": {},
   "outputs": [
    {
     "name": "stdout",
     "output_type": "stream",
     "text": [
      " Please Enter any Number: 145\n",
      "Factorial of 5 = 120\n",
      "Factorial of 4 = 24\n",
      "Factorial of 1 = 1\n",
      "\n",
      " Sum of Factorials 145 = 145\n",
      " 145 is a Strong Number\n"
     ]
    }
   ],
   "source": [
    "Number = int(input(\" Please Enter any Number: \"))\n",
    "Sum = 0\n",
    "Temp = Number\n",
    "\n",
    "while(Temp > 0):\n",
    "    Factorial = 1\n",
    "    Reminder = Temp % 10\n",
    "\n",
    "    for i in range(1, Reminder + 1):\n",
    "        Factorial = Factorial * i\n",
    "\n",
    "    print(\"Factorial of %d = %d\" %(Reminder, Factorial))\n",
    "    Sum = Sum + Factorial\n",
    "    Temp = Temp // 10\n",
    "\n",
    "print(\"\\n Sum of Factorials %d = %d\" %(Number, Sum))\n",
    "    \n",
    "if (Sum == Number):\n",
    "    print(\" %d is a Strong Number\" %Number)\n",
    "else:\n",
    "    print(\" %d is not\" %Number)"
   ]
  },
  {
   "cell_type": "code",
   "execution_count": 8,
   "id": "5807d6dd",
   "metadata": {},
   "outputs": [
    {
     "name": "stdout",
     "output_type": "stream",
     "text": [
      " Please Enter any Number: 117\n",
      "Factorial of 7 = 5040\n",
      "Factorial of 1 = 1\n",
      "Factorial of 1 = 1\n",
      "\n",
      " Sum of Factorials 117 = 5042\n",
      " 117 is not\n"
     ]
    }
   ],
   "source": [
    "Number = int(input(\" Please Enter any Number: \"))\n",
    "Sum = 0\n",
    "Temp = Number\n",
    "\n",
    "while(Temp > 0):\n",
    "    Factorial = 1\n",
    "    Reminder = Temp % 10\n",
    "\n",
    "    for i in range(1, Reminder + 1):\n",
    "        Factorial = Factorial * i\n",
    "\n",
    "    print(\"Factorial of %d = %d\" %(Reminder, Factorial))\n",
    "    Sum = Sum + Factorial\n",
    "    Temp = Temp // 10\n",
    "\n",
    "print(\"\\n Sum of Factorials %d = %d\" %(Number, Sum))\n",
    "    \n",
    "if (Sum == Number):\n",
    "    print(\" %d is a Strong Number\" %Number)\n",
    "else:\n",
    "    print(\" %d is not\" %Number)"
   ]
  },
  {
   "cell_type": "code",
   "execution_count": null,
   "id": "7153591e",
   "metadata": {},
   "outputs": [],
   "source": []
  },
  {
   "cell_type": "markdown",
   "id": "b619d4c3",
   "metadata": {},
   "source": [
    "# 22-Program to check given number perfect or not"
   ]
  },
  {
   "cell_type": "code",
   "execution_count": 5,
   "id": "b1d12aef",
   "metadata": {},
   "outputs": [
    {
     "name": "stdout",
     "output_type": "stream",
     "text": [
      "Enter any number: 6\n",
      "The number is a Perfect number\n"
     ]
    }
   ],
   "source": [
    "n = int(input(\"Enter any number: \"))\n",
    "sum1 = 0\n",
    "for i in range(1, n):\n",
    "    if(n % i == 0):\n",
    "        sum1 = sum1 + i\n",
    "if (sum1 == n):\n",
    "    print(\"The number is a Perfect number\")\n",
    "else:\n",
    "    print(\"The number is not a Perfect number\")"
   ]
  },
  {
   "cell_type": "code",
   "execution_count": 6,
   "id": "8de4f762",
   "metadata": {},
   "outputs": [
    {
     "name": "stdout",
     "output_type": "stream",
     "text": [
      "Enter any number: 7\n",
      "The number is not a Perfect number\n"
     ]
    }
   ],
   "source": [
    "n = int(input(\"Enter any number: \"))\n",
    "sum1 = 0\n",
    "for i in range(1, n):\n",
    "    if(n % i == 0):\n",
    "        sum1 = sum1 + i\n",
    "if (sum1 == n):\n",
    "    print(\"The number is a Perfect number\")\n",
    "else:\n",
    "    print(\"The number is not a Perfect number\")"
   ]
  },
  {
   "cell_type": "code",
   "execution_count": null,
   "id": "c3180b51",
   "metadata": {},
   "outputs": [],
   "source": []
  },
  {
   "cell_type": "code",
   "execution_count": null,
   "id": "4c8173b8",
   "metadata": {},
   "outputs": [],
   "source": []
  },
  {
   "cell_type": "code",
   "execution_count": null,
   "id": "0bf2e75a",
   "metadata": {},
   "outputs": [],
   "source": []
  },
  {
   "cell_type": "code",
   "execution_count": null,
   "id": "ee8dde85",
   "metadata": {},
   "outputs": [],
   "source": []
  }
 ],
 "metadata": {
  "kernelspec": {
   "display_name": "Python 3 (ipykernel)",
   "language": "python",
   "name": "python3"
  },
  "language_info": {
   "codemirror_mode": {
    "name": "ipython",
    "version": 3
   },
   "file_extension": ".py",
   "mimetype": "text/x-python",
   "name": "python",
   "nbconvert_exporter": "python",
   "pygments_lexer": "ipython3",
   "version": "3.9.12"
  }
 },
 "nbformat": 4,
 "nbformat_minor": 5
}
