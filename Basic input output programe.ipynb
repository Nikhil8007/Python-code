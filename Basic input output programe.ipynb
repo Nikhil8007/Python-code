{
 "cells": [
  {
   "cell_type": "markdown",
   "id": "3a2d3d82",
   "metadata": {},
   "source": [
    "# 1.Write a program to introduce yourself"
   ]
  },
  {
   "cell_type": "code",
   "execution_count": 2,
   "id": "6473f391",
   "metadata": {},
   "outputs": [
    {
     "name": "stdout",
     "output_type": "stream",
     "text": [
      "name: Nikhil Upadhyay\n",
      "enter: 24\n",
      "enter: B.E from pune\n",
      "enter: Maharashtra\n",
      "enter: Data Analyst\n",
      "My name is Nikhil Upadhyay I am 24 years old and i completed B.E from pune in mechanical engineering.I am from Maharashtra Now i am doing  Data Analyst course from edubridge institute\n"
     ]
    }
   ],
   "source": [
    "name=input('name: ')\n",
    "age=int(input('enter: '))\n",
    "education=input('enter: ')\n",
    "state=input('enter: ')\n",
    "current_working=input('enter: ')\n",
    "print('My name is',name,'I am',age,'years old','and i completed',education,'in mechanical engineering.I am from',state,'Now i am doing ',current_working,'course from edubridge institute')"
   ]
  },
  {
   "cell_type": "markdown",
   "id": "828e5987",
   "metadata": {},
   "source": [
    "# 2.Write a program to perform following opreation"
   ]
  },
  {
   "cell_type": "markdown",
   "id": "7bcc4cc0",
   "metadata": {},
   "source": [
    "- Addition\n",
    "- Substrction\n",
    "- Multiplication\n",
    "- Division\n",
    "- Moduls\n",
    "- Exponential\n"
   ]
  },
  {
   "cell_type": "code",
   "execution_count": 15,
   "id": "9e16249c",
   "metadata": {},
   "outputs": [
    {
     "name": "stdout",
     "output_type": "stream",
     "text": [
      "enter number20\n",
      "enter number10\n",
      "Addition= 30\n",
      "Difference= -10\n",
      "Multiplication= 200\n",
      "Division= 2.0\n",
      "Moduls= 0\n",
      "Exponent= 10240000000000\n"
     ]
    }
   ],
   "source": [
    "num1=int(input('enter number'))\n",
    "num2=int(input('enter number'))\n",
    "add=num1+num2\n",
    "diff=num2-num1\n",
    "mul=num1*num2\n",
    "div=num1/num2\n",
    "mod=num1%num2\n",
    "expo=num1**num2\n",
    "\n",
    "print('Addition=',add)\n",
    "print('Difference=',diff)\n",
    "print('Multiplication=',mul)\n",
    "print('Division=',div)\n",
    "print('Moduls=',mod)\n",
    "print('Exponent=',expo)"
   ]
  },
  {
   "cell_type": "markdown",
   "id": "c653c2fe",
   "metadata": {},
   "source": [
    "# 3.Wrie a programe to swap two number"
   ]
  },
  {
   "cell_type": "code",
   "execution_count": 23,
   "id": "7c66d6a1",
   "metadata": {},
   "outputs": [],
   "source": [
    "x = 10\n",
    "y = 50\n",
    "\n",
    "temp = x\n",
    "x = y\n",
    "y = temp\n"
   ]
  },
  {
   "cell_type": "code",
   "execution_count": 25,
   "id": "f14a12d0",
   "metadata": {},
   "outputs": [
    {
     "name": "stdout",
     "output_type": "stream",
     "text": [
      "50\n",
      "10\n"
     ]
    }
   ],
   "source": [
    "print(x)\n",
    "print(y)"
   ]
  },
  {
   "cell_type": "markdown",
   "id": "60c04f5d",
   "metadata": {},
   "source": [
    "# 4.Wrie a programe to swap two number without using third variable"
   ]
  },
  {
   "cell_type": "code",
   "execution_count": 30,
   "id": "7b8e8c6b",
   "metadata": {},
   "outputs": [
    {
     "name": "stdout",
     "output_type": "stream",
     "text": [
      "before swaping\n",
      "10 50\n",
      "after swaping\n",
      "50 10\n"
     ]
    }
   ],
   "source": [
    "x=10\n",
    "y=50\n",
    "print('before swaping')\n",
    "print(x,y)\n",
    "x,y=y,x\n",
    "print('after swaping')\n",
    "print(x,y)"
   ]
  },
  {
   "cell_type": "markdown",
   "id": "3de71d4b",
   "metadata": {},
   "source": [
    "# 5.Write a program to compute simple intrest"
   ]
  },
  {
   "cell_type": "code",
   "execution_count": 32,
   "id": "7fc1b66c",
   "metadata": {},
   "outputs": [
    {
     "name": "stdout",
     "output_type": "stream",
     "text": [
      "enter number50000\n",
      "enter time in months9\n",
      "enter rate7\n",
      "the simple intrest is= 31500.0\n"
     ]
    }
   ],
   "source": [
    "principal=int(input('enter number'))\n",
    "time=int(input('enter time in months'))\n",
    "rate=int(input('enter rate'))\n",
    "s_i=(principal*time*rate)/100\n",
    "print('the simple intrest is=',s_i)"
   ]
  },
  {
   "cell_type": "markdown",
   "id": "4282bf46",
   "metadata": {},
   "source": [
    "# 6.Write a programe to find average of five numbers by user input"
   ]
  },
  {
   "cell_type": "code",
   "execution_count": 34,
   "id": "81b0195f",
   "metadata": {},
   "outputs": [
    {
     "name": "stdout",
     "output_type": "stream",
     "text": [
      "enter number10\n",
      "enter number20\n",
      "enter number30\n",
      "enter number40\n",
      "enter number50\n",
      "30.0\n"
     ]
    }
   ],
   "source": [
    "avg1=int(input('enter number'))\n",
    "avg2=int(input('enter number'))\n",
    "avg3=int(input('enter number'))\n",
    "avg4=int(input('enter number'))\n",
    "avg5=int(input('enter number'))\n",
    "\n",
    "total_avg=((avg1+avg2+avg3+avg4+avg5)/5)\n",
    "print(total_avg)"
   ]
  },
  {
   "cell_type": "markdown",
   "id": "fab88daa",
   "metadata": {},
   "source": [
    "# 7.Program to get python version"
   ]
  },
  {
   "cell_type": "code",
   "execution_count": 4,
   "id": "2187bbe7",
   "metadata": {},
   "outputs": [],
   "source": [
    "from platform import python_version"
   ]
  },
  {
   "cell_type": "code",
   "execution_count": 5,
   "id": "b77e6ba1",
   "metadata": {},
   "outputs": [
    {
     "name": "stdout",
     "output_type": "stream",
     "text": [
      "3.9.12\n"
     ]
    }
   ],
   "source": [
    "print(python_version())"
   ]
  },
  {
   "cell_type": "markdown",
   "id": "75fedaca",
   "metadata": {},
   "source": [
    "# 8.Program to calculate power of number"
   ]
  },
  {
   "cell_type": "code",
   "execution_count": 1,
   "id": "88a86664",
   "metadata": {},
   "outputs": [
    {
     "name": "stdout",
     "output_type": "stream",
     "text": [
      "enter number2\n",
      "enter number3\n",
      "power: 8\n"
     ]
    }
   ],
   "source": [
    "x=int(input('enter number'))\n",
    "y=int(input('enter number'))\n",
    "power=x**y\n",
    "print('power:' ,power)\n",
    "             "
   ]
  },
  {
   "cell_type": "markdown",
   "id": "8ecd9ade",
   "metadata": {},
   "source": [
    "# 9.Program to calculate salary"
   ]
  },
  {
   "cell_type": "code",
   "execution_count": 8,
   "id": "07bb2c33",
   "metadata": {},
   "outputs": [
    {
     "name": "stdout",
     "output_type": "stream",
     "text": [
      "enter50000\n",
      "54500.0\n"
     ]
    }
   ],
   "source": [
    "basic_salary=int(input('enter'))\n",
    "hra=basic_salary*0.07\n",
    "da=basic_salary*0.05\n",
    "pf=basic_salary*0.03\n",
    "net_salary=((basic_salary+hra+da)-(pf))\n",
    "print(net_salary)"
   ]
  },
  {
   "cell_type": "markdown",
   "id": "02b5f34a",
   "metadata": {},
   "source": [
    "# 10.Program to calculate are of following shapes"
   ]
  },
  {
   "cell_type": "markdown",
   "id": "3980db48",
   "metadata": {},
   "source": [
    "- Rectange\n",
    "- square\n",
    "- tringle\n",
    "- Circle"
   ]
  },
  {
   "cell_type": "code",
   "execution_count": 2,
   "id": "2c6e7108",
   "metadata": {},
   "outputs": [
    {
     "name": "stdout",
     "output_type": "stream",
     "text": [
      "enter number5\n",
      "enter number5\n",
      "25\n"
     ]
    }
   ],
   "source": [
    "side_A=int(input('enter number'))     #rectangle\n",
    "side_B=int(input('enter number'))\n",
    "area=(side_A*side_B)\n",
    "print(area)"
   ]
  },
  {
   "cell_type": "code",
   "execution_count": 3,
   "id": "ec5cd8d0",
   "metadata": {},
   "outputs": [
    {
     "name": "stdout",
     "output_type": "stream",
     "text": [
      "enter7\n",
      "area of square:  28\n"
     ]
    }
   ],
   "source": [
    "side=int(input('enter'))              #square\n",
    "area=(4*side)\n",
    "print('area of square: ',area)"
   ]
  },
  {
   "cell_type": "code",
   "execution_count": 4,
   "id": "f42fec79",
   "metadata": {},
   "outputs": [
    {
     "name": "stdout",
     "output_type": "stream",
     "text": [
      "enter25\n",
      "enter50\n",
      "area of tringle:  625.0\n"
     ]
    }
   ],
   "source": [
    "base=int(input('enter'))       #tringle\n",
    "height=int(input('enter'))\n",
    "area=(0.5*base*height)\n",
    "print('area of tringle: ',area)"
   ]
  },
  {
   "cell_type": "code",
   "execution_count": 5,
   "id": "8793d0a2",
   "metadata": {},
   "outputs": [
    {
     "name": "stdout",
     "output_type": "stream",
     "text": [
      "enter7\n",
      "area of circle:  153.86\n"
     ]
    }
   ],
   "source": [
    "radius=int(input('enter'))\n",
    "area=(3.14*radius*radius)\n",
    "print('area of circle: ',area)"
   ]
  }
 ],
 "metadata": {
  "kernelspec": {
   "display_name": "Python 3 (ipykernel)",
   "language": "python",
   "name": "python3"
  },
  "language_info": {
   "codemirror_mode": {
    "name": "ipython",
    "version": 3
   },
   "file_extension": ".py",
   "mimetype": "text/x-python",
   "name": "python",
   "nbconvert_exporter": "python",
   "pygments_lexer": "ipython3",
   "version": "3.9.12"
  }
 },
 "nbformat": 4,
 "nbformat_minor": 5
}
